{
  "metadata": {
    "kernelspec": {
      "name": "python",
      "display_name": "Pyolite",
      "language": "python"
    },
    "language_info": {
      "codemirror_mode": {
        "name": "python",
        "version": 3
      },
      "file_extension": ".py",
      "mimetype": "text/x-python",
      "name": "python",
      "nbconvert_exporter": "python",
      "pygments_lexer": "ipython3",
      "version": "3.8"
    }
  },
  "nbformat_minor": 4,
  "nbformat": 4,
  "cells": [
    {
      "cell_type": "markdown",
      "source": "<center>\n    <img src=\"https://cf-courses-data.s3.us.cloud-object-storage.appdomain.cloud/IBMDeveloperSkillsNetwork-DS0105EN-SkillsNetwork/labs/Module2/images/SN_web_lightmode.png\" width=\"300\" alt=\"cognitiveclass.ai logo\">\n</center>\n",
      "metadata": {}
    },
    {
      "cell_type": "markdown",
      "source": "#### Add your code below following the instructions given in the course\n",
      "metadata": {}
    },
    {
      "cell_type": "markdown",
      "source": "Exercise 2 Title: Data Science Tools and Ecosystem",
      "metadata": {}
    },
    {
      "cell_type": "markdown",
      "source": "Exercise 3 Introduction: In this Notebook, Data Science Tools and Ecosystem are summarised",
      "metadata": {}
    },
    {
      "cell_type": "markdown",
      "source": "Objectives:\nData science langauges covered in this course include Python, R, SQL\nData Scince libraries namely Numpy, Pandas, cipy\nData Science tools namely MYSQL, MONGO DB, CASSANDRA",
      "metadata": {}
    },
    {
      "cell_type": "markdown",
      "source": "Exercise 4 Data Science Languages:Some of the popular langauages Dta scientist use are:\n1.JAVA, \n2.PYTHON, \n3.SQL,\n4.JULIA, \n5.JAVASCRIPT",
      "metadata": {}
    },
    {
      "cell_type": "markdown",
      "source": "Exercise 5 Data Science Libraries:\nSome of the commonly used libraries used by Data Scientists include:\n1.NUMPY, \n2.PANDAS, \n3.SCIPY,\n4.BEAUTIFUL SOUP",
      "metadata": {}
    },
    {
      "cell_type": "markdown",
      "source": "|DATA SCIENCE TOOLS|\n|------------------|\n|MYSQL|\n|MONGO DB|\n|CASSANDRA |\n|JUPYTER|\n|MATLAB |\n|APACHE SPARK|",
      "metadata": {}
    },
    {
      "cell_type": "markdown",
      "source": "Exercise 7 Below are a few examples of Evaluating Basic Arithmetic in Python",
      "metadata": {}
    },
    {
      "cell_type": "code",
      "source": "(3*4)+5",
      "metadata": {
        "trusted": true
      },
      "execution_count": 7,
      "outputs": [
        {
          "execution_count": 7,
          "output_type": "execute_result",
          "data": {
            "text/plain": "17"
          },
          "metadata": {}
        }
      ]
    },
    {
      "cell_type": "markdown",
      "source": "This is a simple arithmetic expression to multiply then add integers",
      "metadata": {}
    },
    {
      "cell_type": "code",
      "source": "200/60",
      "metadata": {
        "trusted": true
      },
      "execution_count": 9,
      "outputs": [
        {
          "execution_count": 9,
          "output_type": "execute_result",
          "data": {
            "text/plain": "3.3333333333333335"
          },
          "metadata": {}
        }
      ]
    },
    {
      "cell_type": "markdown",
      "source": "This will convert 200 minutes to hours by diving by 60",
      "metadata": {}
    },
    {
      "cell_type": "markdown",
      "source": "Exercise 11 Author\nHungatani Baloyi",
      "metadata": {}
    }
  ]
}